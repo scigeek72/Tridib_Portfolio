{
  "nbformat": 4,
  "nbformat_minor": 0,
  "metadata": {
    "colab": {
      "provenance": [],
      "authorship_tag": "ABX9TyPbm/YoldoXRVwWIgBqW5LK",
      "include_colab_link": true
    },
    "kernelspec": {
      "name": "python3",
      "display_name": "Python 3"
    },
    "language_info": {
      "name": "python"
    }
  },
  "cells": [
    {
      "cell_type": "markdown",
      "metadata": {
        "id": "view-in-github",
        "colab_type": "text"
      },
      "source": [
        "<a href=\"https://colab.research.google.com/github/scigeek72/Tridib_Portfolio/blob/main/DataLeakage_notebook.ipynb\" target=\"_parent\"><img src=\"https://colab.research.google.com/assets/colab-badge.svg\" alt=\"Open In Colab\"/></a>"
      ]
    },
    {
      "cell_type": "markdown",
      "source": [
        "# Required Libraries"
      ],
      "metadata": {
        "id": "2XpLFIiLTszm"
      }
    },
    {
      "cell_type": "code",
      "execution_count": null,
      "metadata": {
        "id": "joswdra-Tf8r"
      },
      "outputs": [],
      "source": [
        "import pandas as pd\n",
        "import numpy as np\n",
        "import seaborn as sns\n",
        "\n",
        "from sklearn.model_selection import train_test_split, cross_val_score\n",
        "from sklearn.preprocessing import StandardScaler, OneHotEncoder\n",
        "from sklearn.compose import ColumnTransformer\n",
        "from sklearn.pipeline import Pipeline\n",
        "from sklearn.impute import SimpleImputer\n",
        "from sklearn.ensemble import RandomForestClassifier\n",
        "from sklearn.metrics import accuracy_score, classification_report\n"
      ]
    },
    {
      "cell_type": "markdown",
      "source": [
        "# 1. Load and Prepare Titanic Dataset\n",
        "\n"
      ],
      "metadata": {
        "id": "ciA4nhzmT08K"
      }
    },
    {
      "cell_type": "code",
      "source": [
        "# Load dataset\n",
        "df = sns.load_dataset('titanic')\n",
        "\n",
        "# Drop rows with missing target and select a subset of features\n",
        "df = df.dropna(subset=['survived'])\n",
        "df = df[['survived', 'pclass', 'sex', 'age', 'fare', 'embarked']]\n",
        "\n",
        "# Drop rows with missing values just for simplicity in this example\n",
        "df = df.dropna()\n",
        "\n",
        "# Split features and target\n",
        "X = df.drop('survived', axis=1)\n",
        "y = df['survived']\n"
      ],
      "metadata": {
        "id": "UvubEjbvTlo_"
      },
      "execution_count": null,
      "outputs": []
    },
    {
      "cell_type": "markdown",
      "source": [
        "# ⚠️ 2. Leaky Model (Wrong Approach)"
      ],
      "metadata": {
        "id": "snoMLNwTT-eD"
      }
    },
    {
      "cell_type": "code",
      "source": [
        "# Encode and scale before splitting (leakage!)\n",
        "numeric_features = ['age', 'fare']\n",
        "categorical_features = ['pclass', 'sex', 'embarked']\n",
        "\n",
        "numeric_transformer = Pipeline([\n",
        "    ('imputer', SimpleImputer(strategy='mean')),\n",
        "    ('scaler', StandardScaler())\n",
        "])\n",
        "\n",
        "categorical_transformer = Pipeline([\n",
        "    ('encoder', OneHotEncoder(handle_unknown='ignore'))\n",
        "])\n",
        "\n",
        "preprocessor = ColumnTransformer([\n",
        "    ('num', numeric_transformer, numeric_features),\n",
        "    ('cat', categorical_transformer, categorical_features)\n",
        "])\n",
        "\n",
        "# Fit the transformer on full data (this causes leakage)\n",
        "X_processed = preprocessor.fit_transform(X)\n",
        "\n",
        "# Then split\n",
        "X_train, X_test, y_train, y_test = train_test_split(X_processed, y, test_size=0.2, random_state=42)\n",
        "\n",
        "# Train model\n",
        "clf = RandomForestClassifier(random_state=42)\n",
        "clf.fit(X_train, y_train)\n",
        "\n",
        "# Evaluate\n",
        "y_pred = clf.predict(X_test)\n",
        "print(\"Leaky Accuracy:\", accuracy_score(y_test, y_pred))\n"
      ],
      "metadata": {
        "colab": {
          "base_uri": "https://localhost:8080/"
        },
        "id": "auJQMfbDToXe",
        "outputId": "9be8a388-c6c3-4cd6-ff7b-c53ec1e1a646"
      },
      "execution_count": null,
      "outputs": [
        {
          "output_type": "stream",
          "name": "stdout",
          "text": [
            "Leaky Accuracy: 0.7622377622377622\n"
          ]
        }
      ]
    },
    {
      "cell_type": "markdown",
      "source": [
        "# ✅ 3. Clean Pipeline (Correct Approach)\n"
      ],
      "metadata": {
        "id": "1Coa_xi_UXPN"
      }
    },
    {
      "cell_type": "code",
      "source": [
        "# Split first\n",
        "X_train, X_test, y_train, y_test = train_test_split(X, y, test_size=0.2, random_state=42)\n",
        "\n",
        "# Reuse the same preprocessing steps\n",
        "numeric_features = ['age', 'fare']\n",
        "categorical_features = ['pclass', 'sex', 'embarked']\n",
        "\n",
        "numeric_transformer = Pipeline([\n",
        "    ('imputer', SimpleImputer(strategy='mean')),\n",
        "    ('scaler', StandardScaler())\n",
        "])\n",
        "\n",
        "categorical_transformer = Pipeline([\n",
        "    ('encoder', OneHotEncoder(handle_unknown='ignore'))\n",
        "])\n",
        "\n",
        "preprocessor = ColumnTransformer([\n",
        "    ('num', numeric_transformer, numeric_features),\n",
        "    ('cat', categorical_transformer, categorical_features)\n",
        "])\n",
        "\n",
        "# Build pipeline\n",
        "pipeline = Pipeline([\n",
        "    ('preprocessor', preprocessor),\n",
        "    ('classifier', RandomForestClassifier(random_state=42))\n",
        "])\n",
        "\n",
        "# Train and evaluate\n",
        "pipeline.fit(X_train, y_train)\n",
        "y_pred_clean = pipeline.predict(X_test)\n",
        "print(\"Clean Accuracy:\", accuracy_score(y_test, y_pred_clean))\n"
      ],
      "metadata": {
        "colab": {
          "base_uri": "https://localhost:8080/"
        },
        "id": "MoighKGRUdp9",
        "outputId": "bec1b11d-5f0b-4a04-965a-302fb5fdebf2"
      },
      "execution_count": null,
      "outputs": [
        {
          "output_type": "stream",
          "name": "stdout",
          "text": [
            "Clean Accuracy: 0.7692307692307693\n"
          ]
        }
      ]
    },
    {
      "cell_type": "markdown",
      "source": [
        "# 📉 4. Compare Results"
      ],
      "metadata": {
        "id": "7pTimYIuUjTV"
      }
    },
    {
      "cell_type": "code",
      "source": [
        "print(\"\\n--- Leaky Model Report ---\")\n",
        "print(classification_report(y_test, y_pred))\n",
        "\n",
        "print(\"\\n--- Clean Model Report ---\")\n",
        "print(classification_report(y_test, y_pred_clean))\n"
      ],
      "metadata": {
        "colab": {
          "base_uri": "https://localhost:8080/"
        },
        "id": "yb4027rCUmLt",
        "outputId": "9cfe171b-b36b-4a70-89a4-a7b349725c13"
      },
      "execution_count": null,
      "outputs": [
        {
          "output_type": "stream",
          "name": "stdout",
          "text": [
            "\n",
            "--- Leaky Model Report ---\n",
            "              precision    recall  f1-score   support\n",
            "\n",
            "           0       0.77      0.81      0.79        80\n",
            "           1       0.75      0.70      0.72        63\n",
            "\n",
            "    accuracy                           0.76       143\n",
            "   macro avg       0.76      0.76      0.76       143\n",
            "weighted avg       0.76      0.76      0.76       143\n",
            "\n",
            "\n",
            "--- Clean Model Report ---\n",
            "              precision    recall  f1-score   support\n",
            "\n",
            "           0       0.78      0.82      0.80        80\n",
            "           1       0.76      0.70      0.73        63\n",
            "\n",
            "    accuracy                           0.77       143\n",
            "   macro avg       0.77      0.76      0.76       143\n",
            "weighted avg       0.77      0.77      0.77       143\n",
            "\n"
          ]
        }
      ]
    },
    {
      "cell_type": "markdown",
      "source": [
        "Note that in this example, the accuracy improved by only tiny bit. But keep in mind that it is toy example with toy dataset."
      ],
      "metadata": {
        "id": "vg9BwpQ-hKx2"
      }
    },
    {
      "cell_type": "markdown",
      "source": [
        "# 🧭 5. Summary Cell"
      ],
      "metadata": {
        "id": "FD80UpMMUuKJ"
      }
    },
    {
      "cell_type": "code",
      "source": [
        "from IPython.display import Markdown\n",
        "\n",
        "Markdown(\"\"\"\n",
        "### ✅ Key Takeaways\n",
        "\n",
        "- Data leakage can inflate your metrics without throwing any error.\n",
        "- Always **split your data before** doing any transformation.\n",
        "- Use **pipelines** to encapsulate preprocessing steps and avoid leakage.\n",
        "- If your model's accuracy feels *too good to be true*... it might be.\n",
        "\n",
        "\"\"\")\n"
      ],
      "metadata": {
        "colab": {
          "base_uri": "https://localhost:8080/",
          "height": 135
        },
        "id": "F9xxXdi4Uv6l",
        "outputId": "8f7f44b7-2f42-4e3a-81be-85ca655fd841"
      },
      "execution_count": null,
      "outputs": [
        {
          "output_type": "execute_result",
          "data": {
            "text/plain": [
              "<IPython.core.display.Markdown object>"
            ],
            "text/markdown": "\n### ✅ Key Takeaways\n\n- Data leakage can inflate your metrics without throwing any error.\n- Always **split your data before** doing any transformation.\n- Use **pipelines** to encapsulate preprocessing steps and avoid leakage.\n- If your model's accuracy feels *too good to be true*... it might be.\n\n"
          },
          "metadata": {},
          "execution_count": 6
        }
      ]
    }
  ]
}